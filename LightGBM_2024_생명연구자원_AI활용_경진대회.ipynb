{
  "nbformat": 4,
  "nbformat_minor": 0,
  "metadata": {
    "colab": {
      "provenance": []
    },
    "kernelspec": {
      "name": "python3",
      "display_name": "Python 3"
    },
    "language_info": {
      "name": "python"
    }
  },
  "cells": [
    {
      "cell_type": "code",
      "execution_count": null,
      "metadata": {
        "id": "cHTd28x9P3Ko"
      },
      "outputs": [],
      "source": [
        "import numpy as np\n",
        "import pandas as pd"
      ]
    },
    {
      "cell_type": "code",
      "source": [
        "!unzip open.zip"
      ],
      "metadata": {
        "colab": {
          "base_uri": "https://localhost:8080/"
        },
        "id": "0zLriqQtQ951",
        "outputId": "8c5ed5c0-73ca-47c3-dd09-f866a6949821"
      },
      "execution_count": null,
      "outputs": [
        {
          "output_type": "stream",
          "name": "stdout",
          "text": [
            "Archive:  open.zip\n",
            "  inflating: sample_submission.csv   \n",
            "  inflating: test.csv                \n",
            "  inflating: train.csv               \n"
          ]
        }
      ]
    },
    {
      "cell_type": "code",
      "source": [
        "train_df = pd.read_csv('train.csv')\n",
        "test_df = pd.read_csv('test.csv')"
      ],
      "metadata": {
        "id": "-cbSf8y9Q_x8"
      },
      "execution_count": null,
      "outputs": []
    },
    {
      "cell_type": "code",
      "source": [
        "import pandas as pd\n",
        "import lightgbm as lgb\n",
        "from sklearn.model_selection import train_test_split\n",
        "from sklearn.preprocessing import LabelEncoder\n",
        "from sklearn.metrics import accuracy_score\n",
        "\n",
        "# LabelEncoder로 SUBCLASS를 숫자로 변환\n",
        "label_encoder = LabelEncoder()\n",
        "train_df['SUBCLASS'] = label_encoder.fit_transform(train_df['SUBCLASS'])\n",
        "\n",
        "# 모든 값이 'WT'인 열을 제거하는 작업\n",
        "columns_to_drop = [col for col in train_df.columns if (train_df[col] == 'WT').all()]\n",
        "\n",
        "# 열 제거\n",
        "train_df_cleaned = train_df.drop(columns=columns_to_drop)\n",
        "test_df_cleaned = test_df.drop(columns=columns_to_drop)\n",
        "\n",
        "# X, y 분리\n",
        "X = train_df_cleaned.drop(columns=['ID', 'SUBCLASS'])\n",
        "y = train_df_cleaned['SUBCLASS']\n",
        "X_test = test_df_cleaned.drop(columns=['ID'])\n",
        "\n",
        "# 범주형 변이 정보를 LabelEncoder로 처리 (학습 데이터만 인코딩)\n",
        "for col in X.columns:\n",
        "    if X[col].dtype == 'object':\n",
        "        le = LabelEncoder()\n",
        "        X[col] = le.fit_transform(X[col])  # 학습 데이터 인코딩\n",
        "        le_classes = set(le.classes_)\n",
        "        X_test[col] = X_test[col].map(lambda x: le.transform([x])[0] if x in le_classes else -1)  # 학습 데이터에 없는 값은 -1로 처리\n",
        "\n",
        "# 학습 및 검증 데이터 분리\n",
        "X_train, X_val, y_train, y_val = train_test_split(X, y, test_size=0.2, random_state=42, stratify=y)\n",
        "\n",
        "# LightGBM 데이터셋 생성\n",
        "d_train = lgb.Dataset(X_train, label=y_train)\n",
        "d_val = lgb.Dataset(X_val, label=y_val, reference=d_train)\n",
        "\n",
        "# LightGBM 파라미터 설정\n",
        "params = {\n",
        "    'objective': 'multiclass',  # 다중 클래스 분류\n",
        "    'num_class': len(set(y_train)),  # 클래스 개수\n",
        "    'metric': 'multi_logloss',\n",
        "    'learning_rate': 0.1,\n",
        "    'num_leaves': 31,\n",
        "    'boosting_type': 'gbdt',\n",
        "    'verbose': -1,\n",
        "    'random_state': 42\n",
        "}\n",
        "\n",
        "# LightGBM 모델 학습 (콜백으로 조기 종료 처리)\n",
        "lgb_model = lgb.train(params,\n",
        "                      d_train,\n",
        "                      valid_sets=[d_train, d_val],\n",
        "                      num_boost_round=100,\n",
        "                      callbacks=[lgb.early_stopping(stopping_rounds=10)])\n",
        "\n",
        "# 검증 데이터에 대한 예측\n",
        "y_pred_val = lgb_model.predict(X_val, num_iteration=lgb_model.best_iteration)\n",
        "y_pred_val_labels = [list(p).index(max(p)) for p in y_pred_val]  # 확률 값을 클래스 레이블로 변환\n",
        "\n",
        "# 검증 데이터 성능 평가\n",
        "val_accuracy = accuracy_score(y_val, y_pred_val_labels)\n",
        "print(f'LightGBM 검증 데이터 정확도: {val_accuracy}')\n",
        "\n",
        "# 테스트 데이터 예측\n",
        "y_pred_test = lgb_model.predict(X_test, num_iteration=lgb_model.best_iteration)\n",
        "y_pred_test_labels = [list(p).index(max(p)) for p in y_pred_test]\n",
        "\n",
        "# 정수형으로 예측된 SUBCLASS 값을 다시 원래 클래스 이름으로 변환\n",
        "y_pred_test_labels = label_encoder.inverse_transform(y_pred_test_labels)\n",
        "\n",
        "# 제출 파일 생성\n",
        "submission_df = pd.DataFrame({\n",
        "    'ID': test_df_cleaned['ID'],\n",
        "    'SUBCLASS': y_pred_test_labels  # 원래 SUBCLASS 이름으로 출력\n",
        "})\n",
        "\n",
        "submission_df.to_csv('submission_lightgbm_fixed.csv', index=False)\n"
      ],
      "metadata": {
        "colab": {
          "base_uri": "https://localhost:8080/"
        },
        "id": "BRlAnPj4Q_vQ",
        "outputId": "c81f3cc9-84cd-48af-8b8d-8681ed1d9343"
      },
      "execution_count": null,
      "outputs": [
        {
          "output_type": "stream",
          "name": "stderr",
          "text": [
            "/usr/local/lib/python3.10/dist-packages/dask/dataframe/__init__.py:42: FutureWarning: \n",
            "Dask dataframe query planning is disabled because dask-expr is not installed.\n",
            "\n",
            "You can install it with `pip install dask[dataframe]` or `conda install dask`.\n",
            "This will raise in a future version.\n",
            "\n",
            "  warnings.warn(msg, FutureWarning)\n"
          ]
        },
        {
          "output_type": "stream",
          "name": "stdout",
          "text": [
            "Training until validation scores don't improve for 10 rounds\n",
            "Early stopping, best iteration is:\n",
            "[20]\ttraining's multi_logloss: 0.989999\tvalid_1's multi_logloss: 2.13369\n",
            "LightGBM 검증 데이터 정확도: 0.33843674456083805\n"
          ]
        }
      ]
    },
    {
      "cell_type": "code",
      "source": [],
      "metadata": {
        "id": "ni9-6ZBZRH2G"
      },
      "execution_count": null,
      "outputs": []
    }
  ]
}